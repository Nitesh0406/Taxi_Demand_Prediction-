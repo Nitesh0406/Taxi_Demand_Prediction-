{
 "cells": [
  {
   "cell_type": "code",
   "execution_count": 1,
   "metadata": {
    "colab": {
     "base_uri": "https://localhost:8080/",
     "height": 34
    },
    "colab_type": "code",
    "id": "K8IqfqgNUw-q",
    "outputId": "78b78c90-3b69-427a-d89d-4cb2f67da4eb"
   },
   "outputs": [
    {
     "name": "stdout",
     "output_type": "stream",
     "text": [
      "Found GPU at: /device:GPU:0\n"
     ]
    }
   ],
   "source": [
    "%tensorflow_version 2.x\n",
    "import tensorflow as tf\n",
    "device_name = tf.test.gpu_device_name()\n",
    "if device_name != '/device:GPU:0':\n",
    "    raise SystemError('GPU device not found')\n",
    "print('Found GPU at: {}'.format(device_name))"
   ]
  },
  {
   "cell_type": "code",
   "execution_count": 0,
   "metadata": {
    "colab": {},
    "colab_type": "code",
    "id": "o6--7wntVOnq"
   },
   "outputs": [],
   "source": [
    "import pickle\n",
    "with open('/content/drive/My Drive/assignment/Assignment(Taxi_demand)/final_train','rb') as f:\n",
    "    X_train = pickle.load(f)\n",
    "f.close()\n",
    "\n",
    "with open('/content/drive/My Drive/assignment/Assignment(Taxi_demand)/final_test','rb') as f:\n",
    "    X_test = pickle.load(f)\n",
    "f.close()\n",
    "\n",
    "with open('/content/drive/My Drive/assignment/Assignment(Taxi_demand)/train_output','rb') as f:\n",
    "    y_train = pickle.load(f)\n",
    "f.close()\n",
    "\n",
    "with open('/content/drive/My Drive/assignment/Assignment(Taxi_demand)/test_output','rb') as f:\n",
    "    y_test = pickle.load(f)\n",
    "f.close()"
   ]
  },
  {
   "cell_type": "code",
   "execution_count": 3,
   "metadata": {
    "colab": {
     "base_uri": "https://localhost:8080/",
     "height": 51
    },
    "colab_type": "code",
    "id": "Kz7DtxJIVuuD",
    "outputId": "14a9226d-4392-4851-b383-28f5a5e484e6"
   },
   "outputs": [
    {
     "name": "stdout",
     "output_type": "stream",
     "text": [
      "(366760, 18) 366760\n",
      "(157200, 18) 366760\n"
     ]
    }
   ],
   "source": [
    "print(X_train.shape,len(y_train))\n",
    "print(X_test.shape,len(y_train))"
   ]
  },
  {
   "cell_type": "code",
   "execution_count": 0,
   "metadata": {
    "colab": {},
    "colab_type": "code",
    "id": "z1VJe07-cE5D"
   },
   "outputs": [],
   "source": []
  },
  {
   "cell_type": "markdown",
   "metadata": {
    "colab_type": "text",
    "id": "ebKJuYQmV2_m"
   },
   "source": [
    "#**Xgboost Regressor**"
   ]
  },
  {
   "cell_type": "code",
   "execution_count": 0,
   "metadata": {
    "colab": {},
    "colab_type": "code",
    "id": "wTEQQ84fV2IQ"
   },
   "outputs": [],
   "source": [
    "import xgboost as xgb\n",
    "from sklearn.metrics import mean_squared_error\n",
    "from sklearn.metrics import mean_absolute_error\n",
    "from sklearn.model_selection import GridSearchCV,RandomizedSearchCV"
   ]
  },
  {
   "cell_type": "code",
   "execution_count": 11,
   "metadata": {
    "colab": {
     "base_uri": "https://localhost:8080/",
     "height": 428
    },
    "colab_type": "code",
    "id": "FiYSG8PrWa9j",
    "outputId": "86bbdb12-1ed5-4d18-aec1-923907b2269b"
   },
   "outputs": [
    {
     "name": "stdout",
     "output_type": "stream",
     "text": [
      "[12:55:34] WARNING: /workspace/src/objective/regression_obj.cu:152: reg:linear is now deprecated in favor of reg:squarederror.\n"
     ]
    },
    {
     "data": {
      "text/plain": [
       "RandomizedSearchCV(cv=5, error_score=nan,\n",
       "                   estimator=XGBRegressor(base_score=0.5, booster='gbtree',\n",
       "                                          colsample_bylevel=1,\n",
       "                                          colsample_bynode=1,\n",
       "                                          colsample_bytree=1, gamma=0,\n",
       "                                          importance_type='gain',\n",
       "                                          learning_rate=0.1, max_delta_step=0,\n",
       "                                          max_depth=3, min_child_weight=1,\n",
       "                                          missing=None, n_estimators=100,\n",
       "                                          n_jobs=1, nthread=None,\n",
       "                                          objective='reg:linear',\n",
       "                                          random_state=0, reg_alpha=0,\n",
       "                                          reg_lambda=1, scale_pos_weight=1,\n",
       "                                          seed=None, silent=None, subsample=1,\n",
       "                                          verbosity=1),\n",
       "                   iid='deprecated', n_iter=10, n_jobs=-1,\n",
       "                   param_distributions={'max_depth': [3, 4, 5, 6, 7],\n",
       "                                        'min_child_weight': [0.01, 0.1, 1, 10],\n",
       "                                        'n_estimators': [50, 100, 200, 500]},\n",
       "                   pre_dispatch='2*n_jobs', random_state=None, refit=True,\n",
       "                   return_train_score=True, scoring='neg_mean_squared_error',\n",
       "                   verbose=0)"
      ]
     },
     "execution_count": 11,
     "metadata": {
      "tags": []
     },
     "output_type": "execute_result"
    }
   ],
   "source": [
    "params = {'max_depth':[3,4,5,6,7],\n",
    "          'min_child_weight':[0.01,0.1,1,10],\n",
    "          'n_estimators':[50,100,200,500]}\n",
    "\n",
    "model  = xgb.XGBRegressor(booster='gbtree')\n",
    "grid = RandomizedSearchCV(model, param_distributions=params, scoring= 'neg_mean_squared_error', \\\n",
    "                    n_jobs=-1,cv=5,return_train_score=True) \n",
    "                                                \n",
    "grid.fit(X_train,y_train) "
   ]
  },
  {
   "cell_type": "code",
   "execution_count": 12,
   "metadata": {
    "colab": {
     "base_uri": "https://localhost:8080/",
     "height": 1000
    },
    "colab_type": "code",
    "id": "wiiR2hmAXSZN",
    "outputId": "24e49bfe-259a-4a4b-da25-8a008470380d"
   },
   "outputs": [
    {
     "data": {
      "text/plain": [
       "{'mean_fit_time': array([116.54849806, 124.67089028,  68.34275899,  25.63849435,\n",
       "        158.6062192 ,  23.66749196,  44.82021403, 100.1795248 ,\n",
       "         29.93718214,  23.8979085 ]),\n",
       " 'mean_score_time': array([1.01076555, 0.78304367, 0.4782217 , 0.21109576, 1.32986236,\n",
       "        0.19110599, 0.41635866, 0.82318964, 0.23510399, 0.19346023]),\n",
       " 'mean_test_score': array([-167.76173703, -170.18671562, -167.17981207, -167.17909985,\n",
       "        -169.78063921, -167.17909985, -166.67619979, -167.4611726 ,\n",
       "        -166.78959842, -167.17909985]),\n",
       " 'mean_train_score': array([-152.13410523, -132.76289661, -152.63403131, -156.73158851,\n",
       "        -145.04318115, -156.73158851, -152.6001244 , -143.07684171,\n",
       "        -152.94755721, -156.73158851]),\n",
       " 'param_max_depth': masked_array(data=[3, 7, 4, 5, 4, 5, 5, 6, 6, 5],\n",
       "              mask=[False, False, False, False, False, False, False, False,\n",
       "                    False, False],\n",
       "        fill_value='?',\n",
       "             dtype=object),\n",
       " 'param_min_child_weight': masked_array(data=[10, 0.1, 10, 0.01, 0.01, 1, 1, 10, 0.1, 0.1],\n",
       "              mask=[False, False, False, False, False, False, False, False,\n",
       "                    False, False],\n",
       "        fill_value='?',\n",
       "             dtype=object),\n",
       " 'param_n_estimators': masked_array(data=[500, 200, 200, 50, 500, 50, 100, 200, 50, 50],\n",
       "              mask=[False, False, False, False, False, False, False, False,\n",
       "                    False, False],\n",
       "        fill_value='?',\n",
       "             dtype=object),\n",
       " 'params': [{'max_depth': 3, 'min_child_weight': 10, 'n_estimators': 500},\n",
       "  {'max_depth': 7, 'min_child_weight': 0.1, 'n_estimators': 200},\n",
       "  {'max_depth': 4, 'min_child_weight': 10, 'n_estimators': 200},\n",
       "  {'max_depth': 5, 'min_child_weight': 0.01, 'n_estimators': 50},\n",
       "  {'max_depth': 4, 'min_child_weight': 0.01, 'n_estimators': 500},\n",
       "  {'max_depth': 5, 'min_child_weight': 1, 'n_estimators': 50},\n",
       "  {'max_depth': 5, 'min_child_weight': 1, 'n_estimators': 100},\n",
       "  {'max_depth': 6, 'min_child_weight': 10, 'n_estimators': 200},\n",
       "  {'max_depth': 6, 'min_child_weight': 0.1, 'n_estimators': 50},\n",
       "  {'max_depth': 5, 'min_child_weight': 0.1, 'n_estimators': 50}],\n",
       " 'rank_test_score': array([ 8, 10,  6,  3,  9,  3,  1,  7,  2,  3], dtype=int32),\n",
       " 'split0_test_score': array([-220.46978513, -224.26958562, -221.40552761, -221.47419546,\n",
       "        -222.66978827, -221.47419546, -221.02661343, -220.10204778,\n",
       "        -219.87807261, -221.47419546]),\n",
       " 'split0_train_score': array([-139.87340041, -122.01795067, -140.1235103 , -144.39255273,\n",
       "        -133.23548362, -144.39255273, -140.43537279, -131.60645719,\n",
       "        -140.80463291, -144.39255273]),\n",
       " 'split1_test_score': array([-124.72713272, -125.00119124, -122.54202245, -124.17224974,\n",
       "        -123.80301038, -124.17224974, -123.27775689, -123.82353254,\n",
       "        -123.3822382 , -124.17224974]),\n",
       " 'split1_train_score': array([-161.66062998, -140.22566721, -162.21325403, -166.67562363,\n",
       "        -153.78692545, -166.67562363, -162.10738587, -151.77755382,\n",
       "        -162.50547906, -166.67562363]),\n",
       " 'split2_test_score': array([-140.76416743, -147.42954172, -141.70101596, -137.88095188,\n",
       "        -148.66963796, -137.88095188, -139.18685415, -142.61713965,\n",
       "        -139.02993614, -137.88095188]),\n",
       " 'split2_train_score': array([-158.53440608, -138.05470543, -159.07981458, -163.54116342,\n",
       "        -151.24288336, -163.54116342, -159.22444246, -148.84399581,\n",
       "        -159.56559275, -163.54116342]),\n",
       " 'split3_test_score': array([-136.84217294, -137.71731823, -137.03008738, -137.02652171,\n",
       "        -137.02039204, -137.02652171, -136.83705841, -137.03588063,\n",
       "        -137.034123  , -137.02652171]),\n",
       " 'split3_train_score': array([-157.95510654, -137.05251221, -158.70103838, -162.91112982,\n",
       "        -150.03654433, -162.91112982, -158.58000952, -148.09102627,\n",
       "        -158.82299933, -162.91112982]),\n",
       " 'split4_test_score': array([-216.00542692, -216.51594131, -213.22040697, -215.34158047,\n",
       "        -216.74036738, -215.34158047, -213.05271607, -213.72726237,\n",
       "        -214.62362217, -215.34158047]),\n",
       " 'split4_train_score': array([-142.64698315, -126.46364755, -143.05253923, -146.13747292,\n",
       "        -136.91406899, -146.13747292, -142.65341137, -135.06517547,\n",
       "        -143.03908201, -146.13747292]),\n",
       " 'std_fit_time': array([1.50569292, 0.88483183, 1.7502348 , 1.8847559 , 8.17773749,\n",
       "        0.24681928, 1.32688266, 3.44159216, 1.61056546, 4.63798465]),\n",
       " 'std_score_time': array([0.17628206, 0.01535724, 0.01692397, 0.04750048, 0.26435567,\n",
       "        0.00963701, 0.08577721, 0.1290439 , 0.03428338, 0.04000304]),\n",
       " 'std_test_score': array([41.57513036, 41.677899  , 41.49908871, 42.15383861, 41.55798041,\n",
       "        42.15383861, 41.55529341, 40.88711483, 41.58525221, 42.15383861]),\n",
       " 'std_train_score': array([9.01036014, 7.17260608, 9.14807445, 9.46496661, 8.31056235,\n",
       "        9.46496661, 9.13177878, 8.12232752, 9.1137432 , 9.46496661])}"
      ]
     },
     "execution_count": 12,
     "metadata": {
      "tags": []
     },
     "output_type": "execute_result"
    }
   ],
   "source": [
    "grid.cv_results_"
   ]
  },
  {
   "cell_type": "code",
   "execution_count": 13,
   "metadata": {
    "colab": {
     "base_uri": "https://localhost:8080/",
     "height": 34
    },
    "colab_type": "code",
    "id": "ANGUiDsvf1lf",
    "outputId": "84b839d7-0092-4d96-ff97-c403a6df9e84"
   },
   "outputs": [
    {
     "data": {
      "text/plain": [
       "{'max_depth': 5, 'min_child_weight': 1, 'n_estimators': 100}"
      ]
     },
     "execution_count": 13,
     "metadata": {
      "tags": []
     },
     "output_type": "execute_result"
    }
   ],
   "source": [
    "grid.best_params_"
   ]
  },
  {
   "cell_type": "code",
   "execution_count": 14,
   "metadata": {
    "colab": {
     "base_uri": "https://localhost:8080/",
     "height": 136
    },
    "colab_type": "code",
    "id": "gol0Wmsxf5yE",
    "outputId": "4bd1f043-5c49-40c5-8b97-95a4cdf06deb"
   },
   "outputs": [
    {
     "data": {
      "text/plain": [
       "XGBRegressor(base_score=0.5, booster='gbtree', colsample_bylevel=1,\n",
       "             colsample_bynode=1, colsample_bytree=1, gamma=0,\n",
       "             importance_type='gain', learning_rate=0.1, max_delta_step=0,\n",
       "             max_depth=5, min_child_weight=1, missing=None, n_estimators=100,\n",
       "             n_jobs=1, nthread=None, objective='reg:linear', random_state=0,\n",
       "             reg_alpha=0, reg_lambda=1, scale_pos_weight=1, seed=None,\n",
       "             silent=None, subsample=1, verbosity=1)"
      ]
     },
     "execution_count": 14,
     "metadata": {
      "tags": []
     },
     "output_type": "execute_result"
    }
   ],
   "source": [
    "grid.best_estimator_"
   ]
  },
  {
   "cell_type": "code",
   "execution_count": 15,
   "metadata": {
    "colab": {
     "base_uri": "https://localhost:8080/",
     "height": 88
    },
    "colab_type": "code",
    "id": "VJ3c_091gIQl",
    "outputId": "1d7bbe57-1674-4dbc-a456-97284a4e7517"
   },
   "outputs": [
    {
     "name": "stdout",
     "output_type": "stream",
     "text": [
      "[12:59:17] WARNING: /workspace/src/objective/regression_obj.cu:152: reg:linear is now deprecated in favor of reg:squarederror.\n",
      "MAPE for training data :  0.12940559952465905\n",
      "MAPE for test data :  0.1380753575011969\n"
     ]
    }
   ],
   "source": [
    "model = xgb.XGBRegressor(base_score=0.5, booster='gbtree', colsample_bylevel=1,\n",
    "             colsample_bynode=1, colsample_bytree=1, gamma=0,\n",
    "             importance_type='gain', learning_rate=0.1, max_delta_step=0,\n",
    "             max_depth=5, min_child_weight=1, missing=None, n_estimators=100,\n",
    "             n_jobs=1, nthread=None, objective='reg:linear', random_state=0,\n",
    "             reg_alpha=0, reg_lambda=1, scale_pos_weight=1, seed=None,\n",
    "             silent=None, subsample=1, verbosity=1)\n",
    "\n",
    "model.fit(X_train,y_train)\n",
    "y_train_pred = model.predict(X_train)\n",
    "y_test_pred = model.predict(X_test)\n",
    "\n",
    "final_result_train = (mean_absolute_error(y_train,y_train_pred))/(sum(y_train)/len(y_train))\n",
    "final_result_test = (mean_absolute_error(y_test,y_test_pred))/(sum(y_test)/len(y_test))\n",
    "\n",
    "print(\"MAPE for training data : \",final_result_train)\n",
    "print(\"MAPE for test data : \",final_result_test)"
   ]
  },
  {
   "cell_type": "code",
   "execution_count": 0,
   "metadata": {
    "colab": {},
    "colab_type": "code",
    "id": "96X0lWezhYdX"
   },
   "outputs": [],
   "source": []
  }
 ],
 "metadata": {
  "accelerator": "GPU",
  "colab": {
   "name": "Taxidemand.ipynb",
   "provenance": []
  },
  "kernelspec": {
   "display_name": "Python 3",
   "language": "python",
   "name": "python3"
  },
  "language_info": {
   "codemirror_mode": {
    "name": "ipython",
    "version": 3
   },
   "file_extension": ".py",
   "mimetype": "text/x-python",
   "name": "python",
   "nbconvert_exporter": "python",
   "pygments_lexer": "ipython3",
   "version": "3.7.4"
  }
 },
 "nbformat": 4,
 "nbformat_minor": 1
}

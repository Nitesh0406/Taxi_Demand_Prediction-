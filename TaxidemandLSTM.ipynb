{
 "cells": [
  {
   "cell_type": "code",
   "execution_count": 1,
   "metadata": {
    "colab": {
     "base_uri": "https://localhost:8080/",
     "height": 34
    },
    "colab_type": "code",
    "id": "K8IqfqgNUw-q",
    "outputId": "55cfa9dc-7499-4ef1-8922-9f3abb78470a"
   },
   "outputs": [
    {
     "name": "stdout",
     "output_type": "stream",
     "text": [
      "Found GPU at: /device:GPU:0\n"
     ]
    }
   ],
   "source": [
    "%tensorflow_version 2.x\n",
    "import tensorflow as tf\n",
    "device_name = tf.test.gpu_device_name()\n",
    "if device_name != '/device:GPU:0':\n",
    "    raise SystemError('GPU device not found')\n",
    "print('Found GPU at: {}'.format(device_name))"
   ]
  },
  {
   "cell_type": "code",
   "execution_count": 0,
   "metadata": {
    "colab": {},
    "colab_type": "code",
    "id": "o6--7wntVOnq"
   },
   "outputs": [],
   "source": [
    "import pickle\n",
    "with open('/content/drive/My Drive/assignment/Assignment(Taxi_demand)/X_train_new','rb') as f:\n",
    "    X_train_new = pickle.load(f)\n",
    "f.close()\n",
    "\n",
    "with open('/content/drive/My Drive/assignment/Assignment(Taxi_demand)/X_test_new','rb') as f:\n",
    "    X_test_new = pickle.load(f)\n",
    "f.close()\n",
    "\n",
    "with open('/content/drive/My Drive/assignment/Assignment(Taxi_demand)/y_train','rb') as f:\n",
    "    y_train = pickle.load(f)\n",
    "f.close()\n",
    "\n",
    "with open('/content/drive/My Drive/assignment/Assignment(Taxi_demand)/y_test','rb') as f:\n",
    "    y_test = pickle.load(f)\n",
    "f.close()"
   ]
  },
  {
   "cell_type": "code",
   "execution_count": 4,
   "metadata": {
    "colab": {
     "base_uri": "https://localhost:8080/",
     "height": 51
    },
    "colab_type": "code",
    "id": "Kz7DtxJIVuuD",
    "outputId": "5e012393-859f-4002-8bfc-a86bc118d2ba"
   },
   "outputs": [
    {
     "name": "stdout",
     "output_type": "stream",
     "text": [
      "(366760, 68) 366760\n",
      "(157200, 68) 366760\n"
     ]
    }
   ],
   "source": [
    "print(X_train_new.shape,len(y_train))\n",
    "print(X_test_new.shape,len(y_train))"
   ]
  },
  {
   "cell_type": "markdown",
   "metadata": {
    "colab_type": "text",
    "id": "ebKJuYQmV2_m"
   },
   "source": [
    "#**Xgboost Regressor**"
   ]
  },
  {
   "cell_type": "code",
   "execution_count": 0,
   "metadata": {
    "colab": {},
    "colab_type": "code",
    "id": "wTEQQ84fV2IQ"
   },
   "outputs": [],
   "source": [
    "import xgboost as xgb\n",
    "from sklearn.metrics import mean_squared_error\n",
    "from sklearn.metrics import mean_absolute_error\n",
    "from sklearn.model_selection import GridSearchCV,RandomizedSearchCV"
   ]
  },
  {
   "cell_type": "code",
   "execution_count": 6,
   "metadata": {
    "colab": {
     "base_uri": "https://localhost:8080/",
     "height": 428
    },
    "colab_type": "code",
    "id": "FiYSG8PrWa9j",
    "outputId": "969f2795-dbb4-45e5-d866-166634ea22ff"
   },
   "outputs": [
    {
     "name": "stdout",
     "output_type": "stream",
     "text": [
      "[20:25:00] WARNING: /workspace/src/objective/regression_obj.cu:152: reg:linear is now deprecated in favor of reg:squarederror.\n"
     ]
    },
    {
     "data": {
      "text/plain": [
       "RandomizedSearchCV(cv=5, error_score=nan,\n",
       "                   estimator=XGBRegressor(base_score=0.5, booster='gbtree',\n",
       "                                          colsample_bylevel=1,\n",
       "                                          colsample_bynode=1,\n",
       "                                          colsample_bytree=1, gamma=0,\n",
       "                                          importance_type='gain',\n",
       "                                          learning_rate=0.1, max_delta_step=0,\n",
       "                                          max_depth=3, min_child_weight=1,\n",
       "                                          missing=None, n_estimators=100,\n",
       "                                          n_jobs=1, nthread=None,\n",
       "                                          objective='reg:linear',\n",
       "                                          random_state=0, reg_alpha=0,\n",
       "                                          reg_lambda=1, scale_pos_weight=1,\n",
       "                                          seed=None, silent=None, subsample=1,\n",
       "                                          verbosity=1),\n",
       "                   iid='deprecated', n_iter=10, n_jobs=-1,\n",
       "                   param_distributions={'max_depth': [3, 4, 5, 6, 7],\n",
       "                                        'min_child_weight': [0.01, 0.1, 1, 10],\n",
       "                                        'n_estimators': [50, 100, 200, 500]},\n",
       "                   pre_dispatch='2*n_jobs', random_state=None, refit=True,\n",
       "                   return_train_score=True, scoring='neg_mean_squared_error',\n",
       "                   verbose=0)"
      ]
     },
     "execution_count": 6,
     "metadata": {
      "tags": []
     },
     "output_type": "execute_result"
    }
   ],
   "source": [
    "params = {'max_depth':[3,4,5,6,7],\n",
    "          'min_child_weight':[0.01,0.1,1,10],\n",
    "          'n_estimators':[50,100,200,500]}\n",
    "\n",
    "model  = xgb.XGBRegressor(booster='gbtree')\n",
    "grid = RandomizedSearchCV(model, param_distributions=params, scoring= 'neg_mean_squared_error', \\\n",
    "                    n_jobs=-1,cv=5,return_train_score=True) \n",
    "                                                \n",
    "grid.fit(X_train_new,y_train) "
   ]
  },
  {
   "cell_type": "code",
   "execution_count": 7,
   "metadata": {
    "colab": {
     "base_uri": "https://localhost:8080/",
     "height": 1000
    },
    "colab_type": "code",
    "id": "wiiR2hmAXSZN",
    "outputId": "a20b0523-3c19-48f1-fef0-8aeb77e23679"
   },
   "outputs": [
    {
     "data": {
      "text/plain": [
       "{'mean_fit_time': array([ 133.04944167,   89.8542202 ,  491.40316463, 1230.41535001,\n",
       "        1006.10322976,  500.14832621,  109.81159258,   90.56573262,\n",
       "        1220.3815556 ,  300.33195791]),\n",
       " 'mean_score_time': array([0.35871582, 0.21148005, 0.95353117, 2.52146745, 1.95805216,\n",
       "        0.9611496 , 0.25236025, 0.20698366, 2.6727695 , 0.64625688]),\n",
       " 'mean_test_score': array([-165.13354652, -164.73327019, -165.81777777, -167.84648949,\n",
       "        -166.36392965, -165.85319143, -164.43516508, -164.73327019,\n",
       "        -167.84648949, -164.31571763]),\n",
       " 'mean_train_score': array([-150.04227218, -157.3232763 , -139.70246023, -123.1034365 ,\n",
       "        -133.75892379, -138.03338946, -154.39892641, -157.3232763 ,\n",
       "        -123.1034365 , -150.43239839]),\n",
       " 'param_max_depth': masked_array(data=[6, 4, 6, 6, 5, 6, 5, 4, 6, 4],\n",
       "              mask=[False, False, False, False, False, False, False, False,\n",
       "                    False, False],\n",
       "        fill_value='?',\n",
       "             dtype=object),\n",
       " 'param_min_child_weight': masked_array(data=[0.01, 0.01, 10, 1, 0.1, 0.1, 10, 0.1, 0.1, 10],\n",
       "              mask=[False, False, False, False, False, False, False, False,\n",
       "                    False, False],\n",
       "        fill_value='?',\n",
       "             dtype=object),\n",
       " 'param_n_estimators': masked_array(data=[50, 50, 200, 500, 500, 200, 50, 50, 500, 200],\n",
       "              mask=[False, False, False, False, False, False, False, False,\n",
       "                    False, False],\n",
       "        fill_value='?',\n",
       "             dtype=object),\n",
       " 'params': [{'max_depth': 6, 'min_child_weight': 0.01, 'n_estimators': 50},\n",
       "  {'max_depth': 4, 'min_child_weight': 0.01, 'n_estimators': 50},\n",
       "  {'max_depth': 6, 'min_child_weight': 10, 'n_estimators': 200},\n",
       "  {'max_depth': 6, 'min_child_weight': 1, 'n_estimators': 500},\n",
       "  {'max_depth': 5, 'min_child_weight': 0.1, 'n_estimators': 500},\n",
       "  {'max_depth': 6, 'min_child_weight': 0.1, 'n_estimators': 200},\n",
       "  {'max_depth': 5, 'min_child_weight': 10, 'n_estimators': 50},\n",
       "  {'max_depth': 4, 'min_child_weight': 0.1, 'n_estimators': 50},\n",
       "  {'max_depth': 6, 'min_child_weight': 0.1, 'n_estimators': 500},\n",
       "  {'max_depth': 4, 'min_child_weight': 10, 'n_estimators': 200}],\n",
       " 'rank_test_score': array([5, 3, 6, 9, 8, 7, 2, 3, 9, 1], dtype=int32),\n",
       " 'split0_test_score': array([-217.7144619 , -215.84815003, -219.34465903, -222.023972  ,\n",
       "        -219.88171969, -219.65529415, -215.54949477, -215.84815003,\n",
       "        -222.023972  , -217.12530321]),\n",
       " 'split0_train_score': array([-138.20387284, -145.05148853, -128.46585249, -111.59328991,\n",
       "        -121.87717433, -125.94504359, -142.30212961, -145.05148853,\n",
       "        -111.59328991, -138.1922434 ]),\n",
       " 'split1_test_score': array([-122.40389222, -121.86793242, -121.99659644, -123.5632468 ,\n",
       "        -121.85866802, -122.28533373, -121.6888808 , -121.86793242,\n",
       "        -123.5632468 , -121.03566381]),\n",
       " 'split1_train_score': array([-159.09359626, -167.23837   , -148.22171599, -130.66201898,\n",
       "        -142.22219479, -146.48474592, -164.13793645, -167.23837   ,\n",
       "        -130.66201898, -159.83894279]),\n",
       " 'split2_test_score': array([-136.42803785, -134.88961376, -137.15345055, -140.87630162,\n",
       "        -139.00577475, -137.2367989 , -134.8081296 , -134.88961376,\n",
       "        -140.87630162, -135.89809191]),\n",
       " 'split2_train_score': array([-156.61468857, -164.34638031, -145.24980585, -128.6227565 ,\n",
       "        -138.89447178, -144.21470997, -161.17012781, -164.34638031,\n",
       "        -128.6227565 , -156.92238282]),\n",
       " 'split3_test_score': array([-135.9270722 , -136.03938361, -136.47568687, -138.17379537,\n",
       "        -137.04707708, -136.86176958, -135.84915757, -136.03938361,\n",
       "        -138.17379537, -136.06712988]),\n",
       " 'split3_train_score': array([-155.655358  , -163.46871241, -144.42068141, -126.79617656,\n",
       "        -138.54018178, -142.70262126, -160.37430124, -163.46871241,\n",
       "        -126.79617656, -155.97446067]),\n",
       " 'split4_test_score': array([-213.19426842, -215.02127113, -214.11849596, -214.59513166,\n",
       "        -214.02640874, -213.2267608 , -214.28016267, -215.02127113,\n",
       "        -214.59513166, -211.45239934]),\n",
       " 'split4_train_score': array([-140.64384525, -146.51143023, -132.15424538, -117.84294055,\n",
       "        -127.26059626, -130.81982654, -144.01013697, -146.51143023,\n",
       "        -117.84294055, -141.23396226]),\n",
       " 'std_fit_time': array([ 2.38046722,  1.32325171,  3.15045005, 12.19764393,  9.60890397,\n",
       "         4.14037494,  2.35805117,  0.7939318 ,  9.52628518, 41.69271103]),\n",
       " 'std_score_time': array([0.08934115, 0.00912176, 0.03002233, 0.11386627, 0.05587546,\n",
       "        0.05379483, 0.0101452 , 0.00466673, 0.25784913, 0.06376753]),\n",
       " 'std_test_score': array([41.41843401, 41.69660446, 41.95470005, 41.68812912, 41.77207335,\n",
       "        41.70486787, 41.51954807, 41.69660446, 41.68812912, 41.20540332]),\n",
       " 'std_train_score': array([8.77619491, 9.51727113, 7.85938005, 7.23032065, 7.80083929,\n",
       "        8.11910673, 9.28075458, 9.51727113, 7.23032065, 8.89662915])}"
      ]
     },
     "execution_count": 7,
     "metadata": {
      "tags": []
     },
     "output_type": "execute_result"
    }
   ],
   "source": [
    "grid.cv_results_"
   ]
  },
  {
   "cell_type": "code",
   "execution_count": 9,
   "metadata": {
    "colab": {
     "base_uri": "https://localhost:8080/",
     "height": 34
    },
    "colab_type": "code",
    "id": "ANGUiDsvf1lf",
    "outputId": "7b4e7bc0-de0a-4730-b34a-2085274d04e7"
   },
   "outputs": [
    {
     "data": {
      "text/plain": [
       "{'max_depth': 4, 'min_child_weight': 10, 'n_estimators': 200}"
      ]
     },
     "execution_count": 9,
     "metadata": {
      "tags": []
     },
     "output_type": "execute_result"
    }
   ],
   "source": [
    "grid.best_params_"
   ]
  },
  {
   "cell_type": "code",
   "execution_count": 10,
   "metadata": {
    "colab": {
     "base_uri": "https://localhost:8080/",
     "height": 136
    },
    "colab_type": "code",
    "id": "gol0Wmsxf5yE",
    "outputId": "71b0315c-5274-4448-f4fb-25e26fa70517"
   },
   "outputs": [
    {
     "data": {
      "text/plain": [
       "XGBRegressor(base_score=0.5, booster='gbtree', colsample_bylevel=1,\n",
       "             colsample_bynode=1, colsample_bytree=1, gamma=0,\n",
       "             importance_type='gain', learning_rate=0.1, max_delta_step=0,\n",
       "             max_depth=4, min_child_weight=10, missing=None, n_estimators=200,\n",
       "             n_jobs=1, nthread=None, objective='reg:linear', random_state=0,\n",
       "             reg_alpha=0, reg_lambda=1, scale_pos_weight=1, seed=None,\n",
       "             silent=None, subsample=1, verbosity=1)"
      ]
     },
     "execution_count": 10,
     "metadata": {
      "tags": []
     },
     "output_type": "execute_result"
    }
   ],
   "source": [
    "grid.best_estimator_"
   ]
  },
  {
   "cell_type": "code",
   "execution_count": 11,
   "metadata": {
    "colab": {
     "base_uri": "https://localhost:8080/",
     "height": 88
    },
    "colab_type": "code",
    "id": "VJ3c_091gIQl",
    "outputId": "b0298279-5c5b-4664-948c-7eead0995983"
   },
   "outputs": [
    {
     "name": "stdout",
     "output_type": "stream",
     "text": [
      "[20:51:31] WARNING: /workspace/src/objective/regression_obj.cu:152: reg:linear is now deprecated in favor of reg:squarederror.\n",
      "MAPE for training data :  0.12870909850859635\n",
      "MAPE for test data :  0.13171723884520675\n"
     ]
    }
   ],
   "source": [
    "model = xgb.XGBRegressor(base_score=0.5, booster='gbtree', colsample_bylevel=1,\n",
    "             colsample_bynode=1, colsample_bytree=1, gamma=0,\n",
    "             importance_type='gain', learning_rate=0.1, max_delta_step=0,\n",
    "             max_depth=4, min_child_weight=10, missing=None, n_estimators=200,\n",
    "             n_jobs=1, nthread=None, objective='reg:linear', random_state=0,\n",
    "             reg_alpha=0, reg_lambda=1, scale_pos_weight=1, seed=None,\n",
    "             silent=None, subsample=1, verbosity=1)\n",
    "\n",
    "model.fit(X_train_new,y_train)\n",
    "y_train_pred = model.predict(X_train_new)\n",
    "y_test_pred = model.predict(X_test_new)\n",
    "\n",
    "final_result_train = (mean_absolute_error(y_train,y_train_pred))/(sum(y_train)/len(y_train))\n",
    "final_result_test = (mean_absolute_error(y_test,y_test_pred))/(sum(y_test)/len(y_test))\n",
    "\n",
    "print(\"MAPE for training data : \",final_result_train)\n",
    "print(\"MAPE for test data : \",final_result_test)"
   ]
  },
  {
   "cell_type": "code",
   "execution_count": 0,
   "metadata": {
    "colab": {},
    "colab_type": "code",
    "id": "96X0lWezhYdX"
   },
   "outputs": [],
   "source": []
  }
 ],
 "metadata": {
  "accelerator": "GPU",
  "colab": {
   "name": "TaxidemandLSTM.ipynb",
   "provenance": [],
   "toc_visible": true
  },
  "kernelspec": {
   "display_name": "Python 3",
   "language": "python",
   "name": "python3"
  },
  "language_info": {
   "codemirror_mode": {
    "name": "ipython",
    "version": 3
   },
   "file_extension": ".py",
   "mimetype": "text/x-python",
   "name": "python",
   "nbconvert_exporter": "python",
   "pygments_lexer": "ipython3",
   "version": "3.7.4"
  }
 },
 "nbformat": 4,
 "nbformat_minor": 1
}
